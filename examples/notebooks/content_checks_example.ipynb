{
 "cells": [
  {
   "cell_type": "markdown",
   "metadata": {},
   "source": [
    "# Content Checks Example\n",
    "Run the Content Checks workflow and inspect evidence."
   ]
  },
  {
   "cell_type": "code",
   "execution_count": null,
   "metadata": {},
   "outputs": [],
   "source": [
    "from youtube_chat_cli_main.workflows import content_checks\n",
    "out = content_checks.run(topic='AI safety', max_loops=1)\n",
    "out['decision'], out.get('evidence', {}).get('max_score')"
   ]
  }
 ],
 "metadata": {
  "kernelspec": {"display_name": "Python 3", "language": "python", "name": "python3"},
  "language_info": {"name": "python", "version": "3.10"}
 },
 "nbformat": 4,
 "nbformat_minor": 5
}
