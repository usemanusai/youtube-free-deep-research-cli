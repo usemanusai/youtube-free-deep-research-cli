{
 "cells": [
  {
   "cell_type": "markdown",
   "metadata": {},
   "source": [
    "# Deep Research Example\n",
    "Run the Deep Research workflow via Python API."
   ]
  },
  {
   "cell_type": "code",
   "execution_count": null,
   "metadata": {},
   "outputs": [],
   "source": [
    "from youtube_chat_cli_main.workflows import deep_research\n",
    "res = deep_research.run(topic='LLM eval frameworks', max_turns=2)\n",
    "res['correlation_id'], list(res.get('timings', {}).keys())"
   ]
  }
 ],
 "metadata": {
  "kernelspec": {"display_name": "Python 3", "language": "python", "name": "python3"},
  "language_info": {"name": "python", "version": "3.10"}
 },
 "nbformat": 4,
 "nbformat_minor": 5
}
